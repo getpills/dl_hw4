{
  "nbformat": 4,
  "nbformat_minor": 0,
  "metadata": {
    "colab": {
      "provenance": []
    },
    "kernelspec": {
      "name": "python3",
      "display_name": "Python 3"
    },
    "language_info": {
      "name": "python"
    }
  },
  "cells": [
    {
      "cell_type": "code",
      "source": [
        "import torch\n",
        "import torch.nn as nn"
      ],
      "metadata": {
        "id": "15max8Nvz4Qk"
      },
      "execution_count": 6,
      "outputs": []
    },
    {
      "cell_type": "code",
      "execution_count": 11,
      "metadata": {
        "id": "uKyGWI8hyfWm"
      },
      "outputs": [],
      "source": [
        "\n",
        "\n",
        "class RMSNorm(nn.Module):\n",
        "    def __init__(self, normalized_shape, eps=1e-8):\n",
        "        super().__init__()\n",
        "        if isinstance(normalized_shape, int):\n",
        "            normalized_shape = (normalized_shape,)\n",
        "        self.normalized_shape = normalized_shape\n",
        "        self.eps = eps\n",
        "        self.weight = nn.Parameter(torch.ones(self.normalized_shape))\n",
        "\n",
        "    def forward(self, x):\n",
        "        rms = torch.sqrt(x.pow(2).mean(dim=-1, keepdim=True) + self.eps)\n",
        "        x_normed = x / rms\n",
        "        return x_normed * self.weight"
      ]
    },
    {
      "cell_type": "code",
      "source": [
        "\n",
        "\n",
        "batch_size = 4\n",
        "feature_dim = 16\n",
        "\n",
        "x = torch.randn(batch_size, feature_dim)\n",
        "\n",
        "custom_rms = RMSNorm(feature_dim)\n",
        "builtin_rms = nn.RMSNorm(feature_dim)\n",
        "\n",
        "with torch.no_grad():\n",
        "    builtin_rms.weight.copy_(custom_rms.weight)\n",
        "\n",
        "out_custom = custom_rms(x)\n",
        "out_builtin = builtin_rms(x)\n",
        "\n",
        "print(\"отклонение:\", (out_custom - out_builtin).abs().max())\n",
        "#отличный результат"
      ],
      "metadata": {
        "colab": {
          "base_uri": "https://localhost:8080/"
        },
        "id": "AnbGNHWLyviK",
        "outputId": "46fe0fda-222c-42d6-c722-d0494a51840b"
      },
      "execution_count": 12,
      "outputs": [
        {
          "output_type": "stream",
          "name": "stdout",
          "text": [
            "отклонение: tensor(1.1921e-07, grad_fn=<MaxBackward1>)\n"
          ]
        }
      ]
    },
    {
      "cell_type": "code",
      "source": [
        "\n",
        "\n",
        "class ExpPlusCos(torch.autograd.Function):\n",
        "    @staticmethod\n",
        "    def forward(ctx, x, y):\n",
        "        exp_x = torch.exp(x)\n",
        "        cos_y = torch.cos(y)\n",
        "        ctx.save_for_backward(exp_x, y)\n",
        "        return exp_x + cos_y\n",
        "\n",
        "    @staticmethod\n",
        "    def backward(ctx, grad_output):\n",
        "        exp_x, y = ctx.saved_tensors\n",
        "        grad_x = grad_output * exp_x\n",
        "        grad_y = grad_output * (-torch.sin(y))\n",
        "        return grad_x, grad_y"
      ],
      "metadata": {
        "id": "MKIBpT6Dy8pe"
      },
      "execution_count": 13,
      "outputs": []
    },
    {
      "cell_type": "code",
      "source": [
        "x = torch.randn(3, 3, requires_grad=True)\n",
        "y = torch.randn(3, 3, requires_grad=True)\n",
        "\n",
        "# custom realisation\n",
        "custom_out = ExpPlusCos.apply(x, y)\n",
        "custom_out.sum().backward()\n",
        "grad_x_custom = x.grad.clone()\n",
        "grad_y_custom = y.grad.clone()\n",
        "\n",
        "x.grad = None\n",
        "y.grad = None\n",
        "\n",
        "# standart realisation\n",
        "standard_out = torch.exp(x) + torch.cos(y)\n",
        "standard_out.sum().backward()\n",
        "grad_x_standard = x.grad\n",
        "grad_y_standard = y.grad\n",
        "\n",
        "print(\"Max abs diff X grad:\", (grad_x_custom - grad_x_standard).abs().max().item())\n",
        "print(\"Max abs diff Y grad:\", (grad_y_custom - grad_y_standard).abs().max().item())\n",
        "#разницы нету - все отлично"
      ],
      "metadata": {
        "colab": {
          "base_uri": "https://localhost:8080/"
        },
        "id": "gx96zKSvzJ7L",
        "outputId": "5ea3df31-12aa-4221-bb02-6c961310a4fc"
      },
      "execution_count": 14,
      "outputs": [
        {
          "output_type": "stream",
          "name": "stdout",
          "text": [
            "Max abs diff X grad: 0.0\n",
            "Max abs diff Y grad: 0.0\n"
          ]
        }
      ]
    },
    {
      "cell_type": "code",
      "source": [],
      "metadata": {
        "id": "nBdBg_7m0WC8"
      },
      "execution_count": null,
      "outputs": []
    }
  ]
}